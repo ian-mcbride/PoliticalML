{
 "cells": [
  {
   "cell_type": "code",
   "execution_count": 6,
   "metadata": {},
   "outputs": [],
   "source": [
    "import pandas as pd\n",
    "import tweepy as tp"
   ]
  },
  {
   "cell_type": "code",
   "execution_count": 9,
   "metadata": {},
   "outputs": [],
   "source": [
    "keys = pd.read_csv('../Data/keys.csv')\n"
   ]
  },
  {
   "cell_type": "code",
   "execution_count": 10,
   "metadata": {},
   "outputs": [
    {
     "output_type": "stream",
     "name": "stdout",
     "text": "Help on package pandas:\n\nNAME\n    pandas\n\nDESCRIPTION\n    pandas - a powerful data analysis and manipulation library for Python\n    =====================================================================\n    \n    **pandas** is a Python package providing fast, flexible, and expressive data\n    structures designed to make working with \"relational\" or \"labeled\" data both\n    easy and intuitive. It aims to be the fundamental high-level building block for\n    doing practical, **real world** data analysis in Python. Additionally, it has\n    the broader goal of becoming **the most powerful and flexible open source data\n    analysis / manipulation tool available in any language**. It is already well on\n    its way toward this goal.\n    \n    Main Features\n    -------------\n    Here are just a few of the things that pandas does well:\n    \n      - Easy handling of missing data in floating point as well as non-floating\n        point data.\n      - Size mutability: columns can be inserted and deleted from DataFrame and\n        higher dimensional objects\n      - Automatic and explicit data alignment: objects can be explicitly aligned\n        to a set of labels, or the user can simply ignore the labels and let\n        `Series`, `DataFrame`, etc. automatically align the data for you in\n        computations.\n      - Powerful, flexible group by functionality to perform split-apply-combine\n        operations on data sets, for both aggregating and transforming data.\n      - Make it easy to convert ragged, differently-indexed data in other Python\n        and NumPy data structures into DataFrame objects.\n      - Intelligent label-based slicing, fancy indexing, and subsetting of large\n        data sets.\n      - Intuitive merging and joining data sets.\n      - Flexible reshaping and pivoting of data sets.\n      - Hierarchical labeling of axes (possible to have multiple labels per tick).\n      - Robust IO tools for loading data from flat files (CSV and delimited),\n        Excel files, databases, and saving/loading data from the ultrafast HDF5\n        format.\n      - Time series-specific functionality: date range generation and frequency\n        conversion, moving window statistics, date shifting and lagging.\n\nPACKAGE CONTENTS\n    _config (package)\n    _libs (package)\n    _testing\n    _typing\n    _version\n    api (package)\n    arrays (package)\n    compat (package)\n    conftest\n    core (package)\n    errors (package)\n    io (package)\n    plotting (package)\n    testing\n    tests (package)\n    tseries (package)\n    util (package)\n\nSUBMODULES\n    _hashtable\n    _lib\n    _tslib\n    offsets\n\nFUNCTIONS\n    __getattr__(name)\n\nDATA\n    IndexSlice = <pandas.core.indexing._IndexSlice object>\n    NA = <NA>\n    NaT = NaT\n    __docformat__ = 'restructuredtext'\n    __git_version__ = '3adf3340453d6704d4a2cb47058214cc697a7d29'\n    describe_option = <pandas._config.config.CallableDynamicDoc object>\n    get_option = <pandas._config.config.CallableDynamicDoc object>\n    options = <pandas._config.config.DictWrapper object>\n    reset_option = <pandas._config.config.CallableDynamicDoc object>\n    set_option = <pandas._config.config.CallableDynamicDoc object>\n\nVERSION\n    1.0.3\n\nFILE\n    c:\\users\\imcbr\\.virtualenvs\\scripts-tqcpm7zt\\lib\\site-packages\\pandas\\__init__.py\n\n\n"
    }
   ],
   "source": [
    "help(pd)"
   ]
  },
  {
   "cell_type": "code",
   "execution_count": null,
   "metadata": {},
   "outputs": [],
   "source": []
  }
 ],
 "metadata": {
  "language_info": {
   "codemirror_mode": {
    "name": "ipython",
    "version": 3
   },
   "file_extension": ".py",
   "mimetype": "text/x-python",
   "name": "python",
   "nbconvert_exporter": "python",
   "pygments_lexer": "ipython3",
   "version": "3.8.1-final"
  },
  "orig_nbformat": 2,
  "kernelspec": {
   "name": "python38164bitscriptstqcpm7ztvenvbfc73f04c52d40fa9394495e1d287764",
   "display_name": "Python 3.8.1 64-bit ('Scripts-TQcPM7zt': venv)"
  }
 },
 "nbformat": 4,
 "nbformat_minor": 2
}